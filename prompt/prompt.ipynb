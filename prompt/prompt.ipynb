{
 "cells": [
  {
   "cell_type": "code",
   "execution_count": null,
   "id": "e65abf46-09f2-47d2-80fd-8ce67abf7d34",
   "metadata": {},
   "outputs": [],
   "source": [
    "########### generate prompts"
   ]
  },
  {
   "cell_type": "code",
   "execution_count": 5,
   "id": "3225dbc5-39cc-40e9-a9b2-60edcc5a5a35",
   "metadata": {},
   "outputs": [
    {
     "name": "stdout",
     "output_type": "stream",
     "text": [
      "graphsage_asin_Toys_and_Games.json.npy\n",
      "hyperbiolic_asin_Toys_and_Games.json.npy\n",
      "label_graphsage_asin_Toys_and_Games.json.npy\n",
      "label_hyperbiolic_asin_Toys_and_Games.json.npy\n",
      "llm_meta_Toys_and_Games.json\n",
      "test_label_scomgnn_ordered_asin_Toys_and_Games.npy\n",
      "test_scomgnn_ordered_asin_Toys_and_Games.npy\n"
     ]
    }
   ],
   "source": [
    "!ls llm_data"
   ]
  },
  {
   "cell_type": "code",
   "execution_count": 1,
   "id": "a30f31cd-f9fd-454c-82e5-0c67b680d4e4",
   "metadata": {
    "tags": []
   },
   "outputs": [],
   "source": [
    "import numpy as np\n",
    "# data_name = 'Cell_Phones_and_Accessories'\n",
    "data_name = 'Grocery_and_Gourmet_Food'\n",
    "# data_name = 'Electronics'\n",
    "# data_name = \"Home_and_Kitchen\"\n",
    "# data_name = 'Toys_and_Games'\n",
    "import json\n",
    "with open('./llm_data/llm_meta_{}.json'.format(data_name), 'r') as file:\n",
    "    data_feature = json.load(file)\n"
   ]
  },
  {
   "cell_type": "code",
   "execution_count": 2,
   "id": "ef64496d-aaef-4f69-b1f1-3fe0fa5022a8",
   "metadata": {
    "tags": []
   },
   "outputs": [],
   "source": [
    "# model = \"sage\"\n",
    "model = \"scomgnn\"\n",
    "# model = 'hyperbolic' \n",
    "# model = \"decgcn\" \n",
    "# model = \"hgnn\"\n",
    "# model = \"graphsage\"\n",
    "# model = \"gat\"\n",
    "# model = \"gin\"\n",
    "# data = np.load('./llm_data/test_anchor_ordered_asin_{}_{}.npy'.format(data_name, model))\n",
    "data = np.load('./llm_data/test_anchor_ordered_asin_{}.npy'.format(data_name))"
   ]
  },
  {
   "cell_type": "code",
   "execution_count": 5,
   "id": "35bdea2b-500a-48ab-8daf-b9f249f3d284",
   "metadata": {
    "tags": []
   },
   "outputs": [],
   "source": [
    "class Reranking():\n",
    "    def __init__(self, dataset_name, data_id, data_feature, nodes=\"accuracy\",\n",
    "                 item_fea=None, top_k=10, focus=\"Overall Performance\", max_count=3):\n",
    "        self.nodes = nodes\n",
    "        self.item_fea = item_fea\n",
    "        self.top_k = top_k\n",
    "        self.data_id = data_id\n",
    "        self.data_feature = data_feature\n",
    "        self.candidate_id = None\n",
    "        self.focus = focus\n",
    "        self.max_count = max_count\n",
    "        self.dataset_name = dataset_name\n",
    "\n",
    "    def diversity_rerank(self, asin):\n",
    "        anchor = asin[0]\n",
    "        candidate_items = asin[1:]\n",
    "        current_name = 'diversity'\n",
    "        prompt = \"Considering a product, its basic infomation is: \\n{\"\n",
    "        for fea in self.item_fea:\n",
    "            prompt += \"{}:{},\".format(fea, str(self.data_feature[anchor][fea]))\n",
    "        prompt += \"}\\nHere's a list of the candidate products: \\n{\"\n",
    "        for i, item in enumerate(candidate_items):\n",
    "            prompt += \"[\"\n",
    "            prompt += \"{}:{},\".format(\"ID\", str(i))\n",
    "            for fea in self.item_fea:\n",
    "                prompt += \"{}:{},\".format(fea, str(self.data_feature[item][fea]))\n",
    "            prompt += (\"]\\n\")\n",
    "\n",
    "        prompt += (\"The task is identifing the complementary relation between the given product and candidates.\\n\"\n",
    "                   \"Complementary is defined as: products are likely to be purchased or used at the same time, but it is not a direct substitute.\\n\"\n",
    "                   \"The complementary product could be an accessory of the given product, for example, iPhone Case is the complementary of iPhone.\\n\"\n",
    "                   \"Or they are both accessories to the same product, for example, Speaker Cables can be the complementary of Speaker Stands.\\n\"\n",
    "                   \"Or they can be used together for the same activity, for example, Bowl can be the complementary of Plate.\\n\"\n",
    "                    \"Then rerank the candidates based on above given information.\")\n",
    "        \n",
    "        prompt += (\n",
    "                \"\\nThe order of reranking result should represent how likely the candidate is a complementary product.\"\n",
    "                \"\\nMeanwhile, focus on the \" + current_name + \" aspect (more items with different 'genre' feature at the top of the list).\")\n",
    "        prompt += (\n",
    "                \"\\nYour answer should ONLY rank all mentioned candidates ID, do NOT repeat or include Name.\"\n",
    "                \"And omit anything else such as your thinking and decision-making process.\"\n",
    "                \"\\nExample answer format for 5 candidates: [1, 4, 3, 0, 2]\")\n",
    "\n",
    "        return prompt\n",
    "\n",
    "    def accuracy_rerank(self, asin):\n",
    "        anchor = asin[0]\n",
    "        candidate_items = asin[1:]\n",
    "        current_name = 'accuracy'\n",
    "        prompt = \"Considering a product, its basic infomation is: \\n{\"\n",
    "        for fea in self.item_fea:\n",
    "            prompt += \"{}:{},\".format(fea, str(self.data_feature[anchor][fea]))\n",
    "        prompt += \"}\\nHere's a list of the candidate products: \\n{\"\n",
    "        for i, item in enumerate(candidate_items):\n",
    "            prompt += \"[\"\n",
    "            prompt += \"{}:{},\".format(\"ID\", str(i))\n",
    "            for fea in self.item_fea:\n",
    "                prompt += \"{}:{},\".format(fea, str(self.data_feature[item][fea]))\n",
    "            prompt += (\"]\\n\")\n",
    "\n",
    "\n",
    "        prompt += (\"Now, you need to focus on the \" + current_name + \" of identifing the complementary relation between the given product and candidates.\\n\"\n",
    "                   \"Complementary is defined as: products are likely to be purchased or used at the same time, but it is not a direct substitute.\\n\"\n",
    "                   \"The complementary product could be an accessory of the given product, for example, iPhone Case is the complementary of iPhone.\\n\"\n",
    "                   \"Or they are both accessories to the same product, for example, Speaker Cables can be the complementary of Speaker Stands.\\n\"\n",
    "                   \"Or they can be used together for the same activity, for example, Bowl can be the complementary of Plate.\\n\"\n",
    "                    \"Then you will rerank the candidates based on the given information.\")\n",
    "\n",
    "        prompt += (\n",
    "                \"\\nThe order of reranking result should represent how likely the candidate is a complementary product.\"\n",
    "                \"\\nYour answer should ONLY rank all mentioned candidates ID, do NOT repeat or include Name.\"\n",
    "                \" And omit anything else such as your thinking and decision-making process.\"\n",
    "                \"\\nExample answer format for 5 candidates: [1, 4, 3, 0, 2]\")\n",
    "\n",
    "        return prompt\n",
    "\n",
    "    def rerank_batch(self, data_array, topk):\n",
    "        \"\"\"\n",
    "        Process multiple rows of data at once.\n",
    "        \n",
    "        :param data_array: numpy array where each row represents a set of ASINs\n",
    "        :return: list of prompts for each row\n",
    "        \"\"\"\n",
    "        \n",
    "        prompts = []\n",
    "        for row in data_array:\n",
    "            asin = row[:topk+1]  # Assuming you want to process the first 21 items of each row\n",
    "            if self.nodes == \"accuracy\":\n",
    "                prompt = self.accuracy_rerank(asin)\n",
    "            elif self.nodes == \"diversity\":\n",
    "                prompt = self.diversity_rerank(asin)\n",
    "            prompts.append(prompt)\n",
    "        return prompts\n",
    "\n"
   ]
  },
  {
   "cell_type": "code",
   "execution_count": 6,
   "id": "4d928559-1e31-4ad9-8549-da8603f60494",
   "metadata": {
    "tags": []
   },
   "outputs": [],
   "source": [
    "item_fea = [\"title\"]\n",
    "rerank = Reranking(dataset_name = data_name, data_id = data, data_feature = data_feature, item_fea = item_fea)"
   ]
  },
  {
   "cell_type": "code",
   "execution_count": 7,
   "id": "409d4ae2-6dac-4338-84a5-09df0e182973",
   "metadata": {
    "tags": []
   },
   "outputs": [],
   "source": [
    "prompt = rerank.rerank_batch(data, 50)\n"
   ]
  },
  {
   "cell_type": "code",
   "execution_count": 9,
   "id": "0f892cf1-46ee-4acb-8c99-55ad07dcc2aa",
   "metadata": {
    "tags": []
   },
   "outputs": [],
   "source": [
    "import boto3\n",
    "def generate_sequential_id(index, length=11):\n",
    "    \"\"\"Generate a sequential ID padded with leading zeros.\"\"\"\n",
    "    return str(index).zfill(length)\n",
    "\n",
    "json_objects = []\n",
    "\n",
    "for index, p in enumerate(prompt):\n",
    "    formatted_prompt = f\"\"\"\n",
    "    <|begin_of_text|><|start_header_id|>user<|end_header_id|>\n",
    "    {p}\n",
    "    <|eot_id|>\n",
    "    <|start_header_id|>assistant<|end_header_id|>\n",
    "    \"\"\"\n",
    "    json_object = {\n",
    "        \"recordId\": generate_sequential_id(index),\n",
    "        \"modelInput\": {\n",
    "                \"max_gen_len\": 300,\n",
    "                \"prompt\": formatted_prompt,\n",
    "                \"temperature\": 0.1,\n",
    "                \"top_p\": 0.1\n",
    "                }\n",
    "        }\n",
    "    json_objects.append(json.dumps(json_object))\n",
    "file_content = '\\n'.join(json_objects)\n",
    "s3 = boto3.client('s3')\n",
    "\n"
   ]
  },
  {
   "cell_type": "code",
   "execution_count": 10,
   "id": "b6c5647d-ec41-4ffc-8abe-30e35b3672e2",
   "metadata": {
    "tags": []
   },
   "outputs": [
    {
     "data": {
      "text/plain": [
       "{'ResponseMetadata': {'RequestId': 'E2ZG0S8NA46NCENP',\n",
       "  'HostId': 'uddiKM5HIcLdhFMHXcqTJYkQiUNrB9JLdtr6NuLIuiULEt2SkhYCaBhh+iq+6rFs6cWom8JvzA9SkomPo+lc7Q==',\n",
       "  'HTTPStatusCode': 200,\n",
       "  'HTTPHeaders': {'x-amz-id-2': 'uddiKM5HIcLdhFMHXcqTJYkQiUNrB9JLdtr6NuLIuiULEt2SkhYCaBhh+iq+6rFs6cWom8JvzA9SkomPo+lc7Q==',\n",
       "   'x-amz-request-id': 'E2ZG0S8NA46NCENP',\n",
       "   'date': 'Wed, 16 Apr 2025 04:23:56 GMT',\n",
       "   'x-amz-server-side-encryption': 'AES256',\n",
       "   'etag': '\"345316abfcf31d89c4612cf1ad636c6c\"',\n",
       "   'x-amz-checksum-crc32': 'kBRFFw==',\n",
       "   'x-amz-checksum-type': 'FULL_OBJECT',\n",
       "   'content-length': '0',\n",
       "   'server': 'AmazonS3'},\n",
       "  'RetryAttempts': 1},\n",
       " 'ETag': '\"345316abfcf31d89c4612cf1ad636c6c\"',\n",
       " 'ChecksumCRC32': 'kBRFFw==',\n",
       " 'ChecksumType': 'FULL_OBJECT',\n",
       " 'ServerSideEncryption': 'AES256'}"
      ]
     },
     "execution_count": 10,
     "metadata": {},
     "output_type": "execute_result"
    }
   ],
   "source": [
    "\n",
    "bucket_name = 'llmrerank'\n",
    "file_key = 'llama/input/pure_{}_accuracy_{}_50.jsonl'.format(model, data_name)\n",
    "\n",
    "# Upload the file to S3\n",
    "s3.put_object(Bucket=bucket_name, Key=file_key, Body=file_content)\n"
   ]
  },
  {
   "cell_type": "code",
   "execution_count": 183,
   "id": "5d5f3055-418a-4abb-a753-23889463490d",
   "metadata": {
    "tags": []
   },
   "outputs": [],
   "source": [
    "import boto3\n",
    "def generate_sequential_id(index, length=11):\n",
    "    \"\"\"Generate a sequential ID padded with leading zeros.\"\"\"\n",
    "    return str(index).zfill(length)\n",
    "\n",
    "\n",
    "json_objects = []\n",
    "\n",
    "for index, p in enumerate(prompt):\n",
    "    json_object = {\n",
    "        \"recordId\": generate_sequential_id(index),\n",
    "        \"modelInput\": {\n",
    "            \"anthropic_version\": \"bedrock-2023-05-31\",\n",
    "            \"max_tokens\": 300,\n",
    "            \"messages\": [\n",
    "                {\n",
    "                    \"role\": \"user\",\n",
    "                    \"content\": [\n",
    "                        {\n",
    "                            \"type\": \"text\",\n",
    "                            \"text\": p\n",
    "                        }\n",
    "                    ]\n",
    "                }\n",
    "            ]\n",
    "        }\n",
    "    }\n",
    "    json_objects.append(json.dumps(json_object))\n",
    "file_content = '\\n'.join(json_objects)\n",
    "s3 = boto3.client('s3')\n",
    "\n"
   ]
  },
  {
   "cell_type": "code",
   "execution_count": 83,
   "id": "7ac5b08d-0533-4c47-8ab5-b39b515276b7",
   "metadata": {
    "tags": []
   },
   "outputs": [
    {
     "data": {
      "text/plain": [
       "('scomgnn', 'Cell_Phones_and_Accessories')"
      ]
     },
     "execution_count": 83,
     "metadata": {},
     "output_type": "execute_result"
    }
   ],
   "source": [
    "model, data_name"
   ]
  },
  {
   "cell_type": "code",
   "execution_count": 84,
   "id": "0a518720-1561-4230-99bd-6fe6bac09e67",
   "metadata": {
    "tags": []
   },
   "outputs": [
    {
     "data": {
      "text/plain": [
       "{'ResponseMetadata': {'RequestId': 'HPEX414D454A14DA',\n",
       "  'HostId': 'h8mVoUOlH8LfkYzHTRp6UY6HOSMeW2J/9u2efOl3smvppGqbnsL61JSfdVJ40li9hjI6cb741gA=',\n",
       "  'HTTPStatusCode': 200,\n",
       "  'HTTPHeaders': {'x-amz-id-2': 'h8mVoUOlH8LfkYzHTRp6UY6HOSMeW2J/9u2efOl3smvppGqbnsL61JSfdVJ40li9hjI6cb741gA=',\n",
       "   'x-amz-request-id': 'HPEX414D454A14DA',\n",
       "   'date': 'Thu, 10 Apr 2025 04:42:00 GMT',\n",
       "   'x-amz-server-side-encryption': 'AES256',\n",
       "   'etag': '\"26cdc664195d4459cb7c8143a1588063\"',\n",
       "   'x-amz-checksum-crc32': 'q8AMww==',\n",
       "   'x-amz-checksum-type': 'FULL_OBJECT',\n",
       "   'content-length': '0',\n",
       "   'server': 'AmazonS3'},\n",
       "  'RetryAttempts': 1},\n",
       " 'ETag': '\"26cdc664195d4459cb7c8143a1588063\"',\n",
       " 'ChecksumCRC32': 'q8AMww==',\n",
       " 'ChecksumType': 'FULL_OBJECT',\n",
       " 'ServerSideEncryption': 'AES256'}"
      ]
     },
     "execution_count": 84,
     "metadata": {},
     "output_type": "execute_result"
    }
   ],
   "source": [
    "\n",
    "bucket_name = 'llmrerank'\n",
    "file_key = 'claude/input/prompt_{}_diversity_{}_100.jsonl'.format(model, data_name)\n",
    "\n",
    "# Upload the file to S3\n",
    "s3.put_object(Bucket=bucket_name, Key=file_key, Body=file_content)\n"
   ]
  }
 ],
 "metadata": {
  "kernelspec": {
   "display_name": "conda_python3",
   "language": "python",
   "name": "conda_python3"
  },
  "language_info": {
   "codemirror_mode": {
    "name": "ipython",
    "version": 3
   },
   "file_extension": ".py",
   "mimetype": "text/x-python",
   "name": "python",
   "nbconvert_exporter": "python",
   "pygments_lexer": "ipython3",
   "version": "3.10.16"
  }
 },
 "nbformat": 4,
 "nbformat_minor": 5
}
