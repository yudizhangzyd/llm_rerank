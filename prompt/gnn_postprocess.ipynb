{
 "cells": [
  {
   "cell_type": "code",
   "execution_count": 3,
   "id": "6ce5fbb5-2c4f-4223-aa45-347b13e833f2",
   "metadata": {
    "collapsed": true,
    "jupyter": {
     "outputs_hidden": true
    },
    "tags": []
   },
   "outputs": [
    {
     "name": "stdout",
     "output_type": "stream",
     "text": [
      "Collecting torch==2.4.1\n",
      "  Using cached torch-2.4.1-cp310-cp310-manylinux1_x86_64.whl.metadata (26 kB)\n",
      "Requirement already satisfied: filelock in /home/ec2-user/anaconda3/envs/python3/lib/python3.10/site-packages (from torch==2.4.1) (3.17.0)\n",
      "Requirement already satisfied: typing-extensions>=4.8.0 in /home/ec2-user/anaconda3/envs/python3/lib/python3.10/site-packages (from torch==2.4.1) (4.12.2)\n",
      "Requirement already satisfied: sympy in /home/ec2-user/anaconda3/envs/python3/lib/python3.10/site-packages (from torch==2.4.1) (1.13.3)\n",
      "Requirement already satisfied: networkx in /home/ec2-user/anaconda3/envs/python3/lib/python3.10/site-packages (from torch==2.4.1) (3.4)\n",
      "Requirement already satisfied: jinja2 in /home/ec2-user/anaconda3/envs/python3/lib/python3.10/site-packages (from torch==2.4.1) (3.1.5)\n",
      "Requirement already satisfied: fsspec in /home/ec2-user/anaconda3/envs/python3/lib/python3.10/site-packages (from torch==2.4.1) (2025.2.0)\n",
      "Collecting nvidia-cuda-nvrtc-cu12==12.1.105 (from torch==2.4.1)\n",
      "  Using cached nvidia_cuda_nvrtc_cu12-12.1.105-py3-none-manylinux1_x86_64.whl.metadata (1.5 kB)\n",
      "Collecting nvidia-cuda-runtime-cu12==12.1.105 (from torch==2.4.1)\n",
      "  Using cached nvidia_cuda_runtime_cu12-12.1.105-py3-none-manylinux1_x86_64.whl.metadata (1.5 kB)\n",
      "Collecting nvidia-cuda-cupti-cu12==12.1.105 (from torch==2.4.1)\n",
      "  Using cached nvidia_cuda_cupti_cu12-12.1.105-py3-none-manylinux1_x86_64.whl.metadata (1.6 kB)\n",
      "Collecting nvidia-cudnn-cu12==9.1.0.70 (from torch==2.4.1)\n",
      "  Using cached nvidia_cudnn_cu12-9.1.0.70-py3-none-manylinux2014_x86_64.whl.metadata (1.6 kB)\n",
      "Collecting nvidia-cublas-cu12==12.1.3.1 (from torch==2.4.1)\n",
      "  Using cached nvidia_cublas_cu12-12.1.3.1-py3-none-manylinux1_x86_64.whl.metadata (1.5 kB)\n",
      "Collecting nvidia-cufft-cu12==11.0.2.54 (from torch==2.4.1)\n",
      "  Using cached nvidia_cufft_cu12-11.0.2.54-py3-none-manylinux1_x86_64.whl.metadata (1.5 kB)\n",
      "Collecting nvidia-curand-cu12==10.3.2.106 (from torch==2.4.1)\n",
      "  Using cached nvidia_curand_cu12-10.3.2.106-py3-none-manylinux1_x86_64.whl.metadata (1.5 kB)\n",
      "Collecting nvidia-cusolver-cu12==11.4.5.107 (from torch==2.4.1)\n",
      "  Using cached nvidia_cusolver_cu12-11.4.5.107-py3-none-manylinux1_x86_64.whl.metadata (1.6 kB)\n",
      "Collecting nvidia-cusparse-cu12==12.1.0.106 (from torch==2.4.1)\n",
      "  Using cached nvidia_cusparse_cu12-12.1.0.106-py3-none-manylinux1_x86_64.whl.metadata (1.6 kB)\n",
      "Collecting nvidia-nccl-cu12==2.20.5 (from torch==2.4.1)\n",
      "  Using cached nvidia_nccl_cu12-2.20.5-py3-none-manylinux2014_x86_64.whl.metadata (1.8 kB)\n",
      "Collecting nvidia-nvtx-cu12==12.1.105 (from torch==2.4.1)\n",
      "  Using cached nvidia_nvtx_cu12-12.1.105-py3-none-manylinux1_x86_64.whl.metadata (1.7 kB)\n",
      "Collecting triton==3.0.0 (from torch==2.4.1)\n",
      "  Using cached triton-3.0.0-1-cp310-cp310-manylinux2014_x86_64.manylinux_2_17_x86_64.whl.metadata (1.3 kB)\n",
      "Collecting nvidia-nvjitlink-cu12 (from nvidia-cusolver-cu12==11.4.5.107->torch==2.4.1)\n",
      "  Using cached nvidia_nvjitlink_cu12-12.8.93-py3-none-manylinux2010_x86_64.manylinux_2_12_x86_64.whl.metadata (1.7 kB)\n",
      "Requirement already satisfied: MarkupSafe>=2.0 in /home/ec2-user/anaconda3/envs/python3/lib/python3.10/site-packages (from jinja2->torch==2.4.1) (3.0.2)\n",
      "Requirement already satisfied: mpmath<1.4,>=1.1.0 in /home/ec2-user/anaconda3/envs/python3/lib/python3.10/site-packages (from sympy->torch==2.4.1) (1.3.0)\n",
      "Using cached torch-2.4.1-cp310-cp310-manylinux1_x86_64.whl (797.1 MB)\n",
      "Using cached nvidia_cublas_cu12-12.1.3.1-py3-none-manylinux1_x86_64.whl (410.6 MB)\n",
      "Using cached nvidia_cuda_cupti_cu12-12.1.105-py3-none-manylinux1_x86_64.whl (14.1 MB)\n",
      "Using cached nvidia_cuda_nvrtc_cu12-12.1.105-py3-none-manylinux1_x86_64.whl (23.7 MB)\n",
      "Using cached nvidia_cuda_runtime_cu12-12.1.105-py3-none-manylinux1_x86_64.whl (823 kB)\n",
      "Using cached nvidia_cudnn_cu12-9.1.0.70-py3-none-manylinux2014_x86_64.whl (664.8 MB)\n",
      "Using cached nvidia_cufft_cu12-11.0.2.54-py3-none-manylinux1_x86_64.whl (121.6 MB)\n",
      "Using cached nvidia_curand_cu12-10.3.2.106-py3-none-manylinux1_x86_64.whl (56.5 MB)\n",
      "Using cached nvidia_cusolver_cu12-11.4.5.107-py3-none-manylinux1_x86_64.whl (124.2 MB)\n",
      "Using cached nvidia_cusparse_cu12-12.1.0.106-py3-none-manylinux1_x86_64.whl (196.0 MB)\n",
      "Using cached nvidia_nccl_cu12-2.20.5-py3-none-manylinux2014_x86_64.whl (176.2 MB)\n",
      "Using cached nvidia_nvtx_cu12-12.1.105-py3-none-manylinux1_x86_64.whl (99 kB)\n",
      "Using cached triton-3.0.0-1-cp310-cp310-manylinux2014_x86_64.manylinux_2_17_x86_64.whl (209.4 MB)\n",
      "Using cached nvidia_nvjitlink_cu12-12.8.93-py3-none-manylinux2010_x86_64.manylinux_2_12_x86_64.whl (39.3 MB)\n",
      "Installing collected packages: triton, nvidia-nvtx-cu12, nvidia-nvjitlink-cu12, nvidia-nccl-cu12, nvidia-curand-cu12, nvidia-cufft-cu12, nvidia-cuda-runtime-cu12, nvidia-cuda-nvrtc-cu12, nvidia-cuda-cupti-cu12, nvidia-cublas-cu12, nvidia-cusparse-cu12, nvidia-cudnn-cu12, nvidia-cusolver-cu12, torch\n",
      "Successfully installed nvidia-cublas-cu12-12.1.3.1 nvidia-cuda-cupti-cu12-12.1.105 nvidia-cuda-nvrtc-cu12-12.1.105 nvidia-cuda-runtime-cu12-12.1.105 nvidia-cudnn-cu12-9.1.0.70 nvidia-cufft-cu12-11.0.2.54 nvidia-curand-cu12-10.3.2.106 nvidia-cusolver-cu12-11.4.5.107 nvidia-cusparse-cu12-12.1.0.106 nvidia-nccl-cu12-2.20.5 nvidia-nvjitlink-cu12-12.8.93 nvidia-nvtx-cu12-12.1.105 torch-2.4.1 triton-3.0.0\n"
     ]
    }
   ],
   "source": [
    "!pip install torch==2.4.1"
   ]
  },
  {
   "cell_type": "code",
   "execution_count": 6,
   "id": "27210ff4-2f1d-4056-96fd-f6fbb59e83d0",
   "metadata": {
    "collapsed": true,
    "jupyter": {
     "outputs_hidden": true
    },
    "tags": []
   },
   "outputs": [
    {
     "name": "stdout",
     "output_type": "stream",
     "text": [
      "Collecting torch_geometric\n",
      "  Using cached torch_geometric-2.6.1-py3-none-any.whl.metadata (63 kB)\n",
      "Requirement already satisfied: aiohttp in /home/ec2-user/anaconda3/envs/python3/lib/python3.10/site-packages (from torch_geometric) (3.11.12)\n",
      "Requirement already satisfied: fsspec in /home/ec2-user/anaconda3/envs/python3/lib/python3.10/site-packages (from torch_geometric) (2025.2.0)\n",
      "Requirement already satisfied: jinja2 in /home/ec2-user/anaconda3/envs/python3/lib/python3.10/site-packages (from torch_geometric) (3.1.5)\n",
      "Requirement already satisfied: numpy in /home/ec2-user/anaconda3/envs/python3/lib/python3.10/site-packages (from torch_geometric) (1.26.4)\n",
      "Requirement already satisfied: psutil>=5.8.0 in /home/ec2-user/anaconda3/envs/python3/lib/python3.10/site-packages (from torch_geometric) (6.1.1)\n",
      "Requirement already satisfied: pyparsing in /home/ec2-user/anaconda3/envs/python3/lib/python3.10/site-packages (from torch_geometric) (3.2.1)\n",
      "Requirement already satisfied: requests in /home/ec2-user/anaconda3/envs/python3/lib/python3.10/site-packages (from torch_geometric) (2.32.3)\n",
      "Requirement already satisfied: tqdm in /home/ec2-user/anaconda3/envs/python3/lib/python3.10/site-packages (from torch_geometric) (4.67.1)\n",
      "Requirement already satisfied: aiohappyeyeballs>=2.3.0 in /home/ec2-user/anaconda3/envs/python3/lib/python3.10/site-packages (from aiohttp->torch_geometric) (2.4.6)\n",
      "Requirement already satisfied: aiosignal>=1.1.2 in /home/ec2-user/anaconda3/envs/python3/lib/python3.10/site-packages (from aiohttp->torch_geometric) (1.3.2)\n",
      "Requirement already satisfied: async-timeout<6.0,>=4.0 in /home/ec2-user/anaconda3/envs/python3/lib/python3.10/site-packages (from aiohttp->torch_geometric) (5.0.1)\n",
      "Requirement already satisfied: attrs>=17.3.0 in /home/ec2-user/anaconda3/envs/python3/lib/python3.10/site-packages (from aiohttp->torch_geometric) (23.2.0)\n",
      "Requirement already satisfied: frozenlist>=1.1.1 in /home/ec2-user/anaconda3/envs/python3/lib/python3.10/site-packages (from aiohttp->torch_geometric) (1.5.0)\n",
      "Requirement already satisfied: multidict<7.0,>=4.5 in /home/ec2-user/anaconda3/envs/python3/lib/python3.10/site-packages (from aiohttp->torch_geometric) (6.1.0)\n",
      "Requirement already satisfied: propcache>=0.2.0 in /home/ec2-user/anaconda3/envs/python3/lib/python3.10/site-packages (from aiohttp->torch_geometric) (0.2.1)\n",
      "Requirement already satisfied: yarl<2.0,>=1.17.0 in /home/ec2-user/anaconda3/envs/python3/lib/python3.10/site-packages (from aiohttp->torch_geometric) (1.18.3)\n",
      "Requirement already satisfied: MarkupSafe>=2.0 in /home/ec2-user/anaconda3/envs/python3/lib/python3.10/site-packages (from jinja2->torch_geometric) (3.0.2)\n",
      "Requirement already satisfied: charset_normalizer<4,>=2 in /home/ec2-user/anaconda3/envs/python3/lib/python3.10/site-packages (from requests->torch_geometric) (3.4.1)\n",
      "Requirement already satisfied: idna<4,>=2.5 in /home/ec2-user/anaconda3/envs/python3/lib/python3.10/site-packages (from requests->torch_geometric) (3.10)\n",
      "Requirement already satisfied: urllib3<3,>=1.21.1 in /home/ec2-user/anaconda3/envs/python3/lib/python3.10/site-packages (from requests->torch_geometric) (2.3.0)\n",
      "Requirement already satisfied: certifi>=2017.4.17 in /home/ec2-user/anaconda3/envs/python3/lib/python3.10/site-packages (from requests->torch_geometric) (2025.1.31)\n",
      "Requirement already satisfied: typing-extensions>=4.1.0 in /home/ec2-user/anaconda3/envs/python3/lib/python3.10/site-packages (from multidict<7.0,>=4.5->aiohttp->torch_geometric) (4.12.2)\n",
      "Using cached torch_geometric-2.6.1-py3-none-any.whl (1.1 MB)\n",
      "Installing collected packages: torch_geometric\n",
      "Successfully installed torch_geometric-2.6.1\n"
     ]
    }
   ],
   "source": [
    "!pip install torch_geometric\n"
   ]
  },
  {
   "cell_type": "code",
   "execution_count": 1,
   "id": "cb917c9f-ad83-4c26-9964-2fa0192c9b99",
   "metadata": {
    "tags": []
   },
   "outputs": [
    {
     "name": "stdout",
     "output_type": "stream",
     "text": [
      "/home/ec2-user/SageMaker/SComGNN-main\n"
     ]
    }
   ],
   "source": [
    "import os\n",
    "\n",
    "# Change to the desired directory\n",
    "os.chdir('/home/ec2-user/SageMaker/SComGNN-main')\n",
    "\n",
    "# Verify the current working directory\n",
    "print(os.getcwd())"
   ]
  },
  {
   "cell_type": "code",
   "execution_count": 2,
   "id": "238f94b6-62c1-430b-80f4-bf5d69055f80",
   "metadata": {
    "tags": []
   },
   "outputs": [],
   "source": [
    "from model import SComGNN\n",
    "from utils import *\n",
    "import random\n",
    "import os\n",
    "import argparse"
   ]
  },
  {
   "cell_type": "code",
   "execution_count": 87,
   "id": "71964bea-802e-4387-a986-d55a36ca44a6",
   "metadata": {
    "tags": []
   },
   "outputs": [],
   "source": [
    "class argC:\n",
    "    def __init__(self):\n",
    "        self.ckpt_path = 'None'\n",
    "        self.device = 'cuda:0'\n",
    "        self.mode = None\n",
    "        self.embedding_dim = 16\n",
    "        # self.dataset = 'Home_and_Kitchen'\n",
    "        # self.dataset = 'Grocery_and_Gourmet_Food'\n",
    "        # self.dataset = 'Electronics'\n",
    "        # self.dataset = 'Toys_and_Games'\n",
    "        self.dataset = 'Cell_Phones_and_Accessories'\n"
   ]
  },
  {
   "cell_type": "code",
   "execution_count": 88,
   "id": "a78e50dc-234e-4e0f-aa94-a9c01556145f",
   "metadata": {
    "tags": []
   },
   "outputs": [],
   "source": [
    "\n",
    "args = argC()"
   ]
  },
  {
   "cell_type": "code",
   "execution_count": 89,
   "id": "7a5c9331-6e87-46d4-9f14-e9bc86072c37",
   "metadata": {
    "tags": []
   },
   "outputs": [
    {
     "name": "stdout",
     "output_type": "stream",
     "text": [
      "Dataset: Cell_Phones_and_Accessories\n",
      "Finish generating adjacent matrix\n"
     ]
    },
    {
     "name": "stderr",
     "output_type": "stream",
     "text": [
      "/home/ec2-user/anaconda3/envs/python3/lib/python3.10/site-packages/sklearn/preprocessing/_discretization.py:306: UserWarning: Bins whose width are too small (i.e., <= 1e-8) in feature 0 are removed. Consider decreasing the number of bins.\n",
      "  warnings.warn(\n"
     ]
    }
   ],
   "source": [
    "print('Dataset: {}'.format(args.dataset), flush=True)\n",
    "device = torch.device(args.device if torch.cuda.is_available() else \"cpu\")\n",
    "# device = torch.device(args.device)\n",
    "\n",
    "ckpt_path = \"checkpoints/\"\n",
    "if not os.path.exists(ckpt_path):\n",
    "    os.mkdir(ckpt_path)\n",
    "\n",
    "if args.ckpt_path == 'None':\n",
    "    ckpt_path = \"checkpoints/{}\".format(args.dataset)\n",
    "else:\n",
    "    ckpt_path = \"checkpoints/{}\".format(args.ckpt_path)\n",
    "if not os.path.exists(ckpt_path):\n",
    "    os.mkdir(ckpt_path)\n",
    "\n",
    "torch.backends.cudnn.deterministic = True\n",
    "torch.backends.cudnn.benchmark = False\n",
    "\n",
    "\n",
    "#load dataset\n",
    "features, price_bin, com_edge_index, train_set, val_set, test_set = load_dataset(args.dataset)\n",
    "\n",
    "num_items = features.shape[0]\n",
    "adj = generate_adj(com_edge_index, num_items)\n",
    "\n",
    "features = torch.FloatTensor(features).to(device)\n",
    "price_bin = torch.LongTensor(price_bin).to(device)\n",
    "adj = adj.to(device)\n",
    "train_set = torch.LongTensor(train_set).to(device)\n",
    "val_set = torch.LongTensor(val_set).to(device)\n",
    "test_set = torch.LongTensor(test_set).to(device)"
   ]
  },
  {
   "cell_type": "code",
   "execution_count": 90,
   "id": "e5e24987-99ae-46aa-9783-08e6abd84ed8",
   "metadata": {
    "tags": []
   },
   "outputs": [
    {
     "data": {
      "text/plain": [
       "tensor(1486, device='cuda:0')"
      ]
     },
     "execution_count": 90,
     "metadata": {},
     "output_type": "execute_result"
    }
   ],
   "source": [
    "train_set.max()"
   ]
  },
  {
   "cell_type": "code",
   "execution_count": 91,
   "id": "26caea4a-6bb7-47b4-9183-747d45bca4ff",
   "metadata": {
    "tags": []
   },
   "outputs": [
    {
     "data": {
      "text/plain": [
       "torch.Size([635, 102])"
      ]
     },
     "execution_count": 91,
     "metadata": {},
     "output_type": "execute_result"
    }
   ],
   "source": [
    "val_set.shape"
   ]
  },
  {
   "cell_type": "code",
   "execution_count": 92,
   "id": "65026452-7b83-4cd4-8a96-1d9577278e67",
   "metadata": {
    "tags": []
   },
   "outputs": [
    {
     "data": {
      "text/plain": [
       "torch.Size([5334, 4])"
      ]
     },
     "execution_count": 92,
     "metadata": {},
     "output_type": "execute_result"
    }
   ],
   "source": [
    "train_set.shape"
   ]
  },
  {
   "cell_type": "code",
   "execution_count": 93,
   "id": "e78407f6-b94d-438f-9c26-0eedc062a437",
   "metadata": {
    "tags": []
   },
   "outputs": [
    {
     "name": "stderr",
     "output_type": "stream",
     "text": [
      "/tmp/ipykernel_33612/42334272.py:3: FutureWarning: You are using `torch.load` with `weights_only=False` (the current default value), which uses the default pickle module implicitly. It is possible to construct malicious pickle data which will execute arbitrary code during unpickling (See https://github.com/pytorch/pytorch/blob/main/SECURITY.md#untrusted-models for more details). In a future release, the default value for `weights_only` will be flipped to `True`. This limits the functions that could be executed during unpickling. Arbitrary objects will no longer be allowed to be loaded via this mode unless they are explicitly allowlisted by the user via `torch.serialization.add_safe_globals`. We recommend you start setting `weights_only=True` for any use case where you don't have full control of the loaded file. Please open an issue on GitHub for any issues related to this experimental feature.\n",
      "  model.load_state_dict(torch.load('{}/model_gat.pkl'.format(ckpt_path)))\n"
     ]
    },
    {
     "data": {
      "text/plain": [
       "<All keys matched successfully>"
      ]
     },
     "execution_count": 93,
     "metadata": {},
     "output_type": "execute_result"
    }
   ],
   "source": [
    "model = SComGNN(args.embedding_dim, 20, args.mode)\n",
    "model = model.to(device)\n",
    "model.load_state_dict(torch.load('{}/model_gat.pkl'.format(ckpt_path)))"
   ]
  },
  {
   "cell_type": "code",
   "execution_count": 94,
   "id": "f7e024d6-022f-4138-bada-a610c51e362c",
   "metadata": {
    "tags": []
   },
   "outputs": [],
   "source": [
    "\n",
    "\n",
    "\n",
    "\n",
    "\n",
    "with torch.no_grad():\n",
    "    model.eval()\n",
    "    hr5_score, hr10_score, ndcg_score, scores, labels= model.inference(features, price_bin, adj, test_set)\n"
   ]
  },
  {
   "cell_type": "code",
   "execution_count": 95,
   "id": "af70a579-792b-4fde-898e-f6bf04a44fa7",
   "metadata": {
    "tags": []
   },
   "outputs": [
    {
     "data": {
      "text/plain": [
       "torch.Size([635, 101])"
      ]
     },
     "execution_count": 95,
     "metadata": {},
     "output_type": "execute_result"
    }
   ],
   "source": [
    "labels.shape"
   ]
  },
  {
   "cell_type": "code",
   "execution_count": 96,
   "id": "47b2b4c6-5045-402c-b01a-a1f90071ad79",
   "metadata": {
    "tags": []
   },
   "outputs": [
    {
     "data": {
      "text/plain": [
       "tensor(635., device='cuda:0')"
      ]
     },
     "execution_count": 96,
     "metadata": {},
     "output_type": "execute_result"
    }
   ],
   "source": [
    "labels[:, 0].sum()\n"
   ]
  },
  {
   "cell_type": "code",
   "execution_count": 97,
   "id": "093ac433-5adc-4565-9edc-f1c322d1b935",
   "metadata": {
    "tags": []
   },
   "outputs": [],
   "source": [
    "ranking = torch.argsort(scores, dim=1, descending=True)\n"
   ]
  },
  {
   "cell_type": "code",
   "execution_count": 98,
   "id": "deed8fdb-3f5d-4488-977b-f29ddf3b702e",
   "metadata": {
    "tags": []
   },
   "outputs": [],
   "source": [
    "with open('./data_preprocess/tmp/{}_id_dict.txt'.format(args.dataset), 'r') as file:\n",
    "# Read the entire content of the file\n",
    "    content = file.read()\n",
    "\n",
    "\n",
    "lines = content.split('\\n')\n",
    "\n",
    "# Create an empty dictionary to store the key-value pairs\n",
    "data_dict = {}\n",
    "\n",
    "# Process each line\n",
    "for line in lines[:-1]:\n",
    "    # Split each line by the tab character\n",
    "    key, value = line.split('\\t')\n",
    "\n",
    "    \n",
    "    # Convert the value to an integer (assuming all values are integers)\n",
    "    value = int(value)\n",
    "    \n",
    "    # Add the key-value pair to the dictionary\n",
    "    data_dict[value] = key\n"
   ]
  },
  {
   "cell_type": "code",
   "execution_count": 99,
   "id": "01343ea5-6f71-4e0a-b543-b11d1e0c666d",
   "metadata": {
    "tags": []
   },
   "outputs": [
    {
     "data": {
      "text/plain": [
       "torch.Size([635, 101])"
      ]
     },
     "execution_count": 99,
     "metadata": {},
     "output_type": "execute_result"
    }
   ],
   "source": [
    "ranking.shape"
   ]
  },
  {
   "cell_type": "code",
   "execution_count": 100,
   "id": "7c23f150-f5ec-400f-a117-73b3a218370b",
   "metadata": {
    "tags": []
   },
   "outputs": [],
   "source": [
    "asin_set = test_set[:, 1:]"
   ]
  },
  {
   "cell_type": "code",
   "execution_count": 101,
   "id": "90fb55d1-56ff-4981-bfee-a870561ad30a",
   "metadata": {
    "tags": []
   },
   "outputs": [],
   "source": [
    "test_set_asin = np.array([\n",
    "    [data_dict[int(x)] for x in row]  # Use 'Unknown' for missing keys\n",
    "    for row in test_set\n",
    "])"
   ]
  },
  {
   "cell_type": "code",
   "execution_count": 102,
   "id": "36b6c641-5373-48f3-bb6f-8d6f9f50f4a6",
   "metadata": {
    "tags": []
   },
   "outputs": [],
   "source": [
    "ordered_asin_set = torch.stack([asin_set[i, ranking[i]] for i in range(asin_set.size(0))])\n"
   ]
  },
  {
   "cell_type": "code",
   "execution_count": 103,
   "id": "8910138a-f425-473d-9078-62155950b849",
   "metadata": {
    "tags": []
   },
   "outputs": [
    {
     "data": {
      "text/plain": [
       "(635,)"
      ]
     },
     "execution_count": 103,
     "metadata": {},
     "output_type": "execute_result"
    }
   ],
   "source": [
    "test_set_asin[:, 0].shape"
   ]
  },
  {
   "cell_type": "code",
   "execution_count": 104,
   "id": "fa2a4141-4563-400f-a550-3202754a750d",
   "metadata": {
    "tags": []
   },
   "outputs": [],
   "source": [
    "mapped_ordered_asin_set = np.array([\n",
    "    [data_dict[int(x)] for x in row]  # Use 'Unknown' for missing keys\n",
    "    for row in ordered_asin_set\n",
    "])\n"
   ]
  },
  {
   "cell_type": "code",
   "execution_count": 105,
   "id": "8cd20114-b589-4a68-9d50-3c2aaebb732c",
   "metadata": {
    "tags": []
   },
   "outputs": [],
   "source": [
    "anchor_asin_column = test_set_asin[:, 0].reshape(-1, 1)\n",
    "\n",
    "# Combine the asin_column with the existing matrix\n",
    "anchor_ordered_asin = np.column_stack((anchor_asin_column, mapped_ordered_asin_set))"
   ]
  },
  {
   "cell_type": "code",
   "execution_count": 106,
   "id": "3af72db2-bd01-4d56-ab84-b9bb9925d61c",
   "metadata": {
    "tags": []
   },
   "outputs": [],
   "source": [
    "\n",
    "np.save('../llm_data/test_label_anchor_ordered_asin_{}_gat.npy'.format(args.dataset), test_set_asin[:, 1].reshape(-1, 1))"
   ]
  },
  {
   "cell_type": "code",
   "execution_count": 107,
   "id": "06c7bd51-b619-437b-be3e-240f2379208e",
   "metadata": {
    "tags": []
   },
   "outputs": [],
   "source": [
    "np.save('../llm_data/test_anchor_ordered_asin_{}_gat.npy'.format(args.dataset), anchor_ordered_asin)"
   ]
  },
  {
   "cell_type": "code",
   "execution_count": 13,
   "id": "a06159ec-0df5-4b57-a825-ec2226a03eb4",
   "metadata": {
    "tags": []
   },
   "outputs": [],
   "source": [
    "meta_file = open('/home/ec2-user/SageMaker/DHGAN/DHGAN_code/data_preprocess/raw_data/meta_{}.json'.format(args.dataset)).readlines()\n"
   ]
  },
  {
   "cell_type": "code",
   "execution_count": 6,
   "id": "cf443544-1b5a-48b7-be45-9190eddabb01",
   "metadata": {
    "tags": []
   },
   "outputs": [],
   "source": [
    "import json\n",
    "\n",
    "def process_metadata(file_path):\n",
    "    result = {}\n",
    "    \n",
    "    with open(file_path, 'r') as file:\n",
    "        for line in file:\n",
    "            item = json.loads(line)\n",
    "            \n",
    "            asin = item.get('asin')\n",
    "            if asin:\n",
    "                title = item.get('title', '')\n",
    "                brand = item.get('brand', '')\n",
    "                description = item.get('description', '')\n",
    "                \n",
    "                result[asin] = {\n",
    "                    'title': title,\n",
    "                    'brand': brand,\n",
    "                    'description': description\n",
    "                }\n",
    "    \n",
    "    return result\n",
    "\n",
    "# Usage\n",
    "file_path = '/home/ec2-user/SageMaker/SComGNN-main/data_preprocess/raw_data/meta_{}.json'.format(args.dataset)\n",
    "# file_path = '/home/ec2-user/SageMaker/DHGAN/DHGAN_code/data_preprocess/raw_data/meta_{}.json'.format(args.dataset)\n",
    "metadata_dict = process_metadata(file_path)\n"
   ]
  },
  {
   "cell_type": "code",
   "execution_count": 7,
   "id": "f85fe2f3-f163-4d31-b5ad-7a861356adf0",
   "metadata": {
    "tags": []
   },
   "outputs": [],
   "source": [
    "output_file_path =  '../llm_data/llm_meta_{}.json'.format(args.dataset)\n",
    "with open(output_file_path, 'w') as outfile:\n",
    "        json.dump(metadata_dict, outfile, indent=2)\n",
    "    \n"
   ]
  }
 ],
 "metadata": {
  "kernelspec": {
   "display_name": "conda_python3",
   "language": "python",
   "name": "conda_python3"
  },
  "language_info": {
   "codemirror_mode": {
    "name": "ipython",
    "version": 3
   },
   "file_extension": ".py",
   "mimetype": "text/x-python",
   "name": "python",
   "nbconvert_exporter": "python",
   "pygments_lexer": "ipython3",
   "version": "3.10.16"
  }
 },
 "nbformat": 4,
 "nbformat_minor": 5
}
